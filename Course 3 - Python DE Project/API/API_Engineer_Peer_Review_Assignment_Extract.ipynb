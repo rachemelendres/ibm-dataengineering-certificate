{
 "cells": [
  {
   "cell_type": "markdown",
   "metadata": {},
   "source": [
    "<p style=\"text-align:center\">\n",
    "    <a href=\"https://skills.network/?utm_medium=Exinfluencer&utm_source=Exinfluencer&utm_content=000026UJ&utm_term=10006555&utm_id=NA-SkillsNetwork-Channel-SkillsNetworkCoursesIBMDeveloperSkillsNetworkPY0221ENSkillsNetwork899-2023-01-01\">\n",
    "    <img src=\"https://cf-courses-data.s3.us.cloud-object-storage.appdomain.cloud/assets/logos/SN_web_lightmode.png\" width=\"200\" alt=\"Skills Network Logo\"  />\n",
    "    </a>\n",
    "</p>\n"
   ]
  },
  {
   "cell_type": "markdown",
   "metadata": {},
   "source": [
    "# Peer Review Assignment - Data Engineer - Extract API Data\n"
   ]
  },
  {
   "cell_type": "markdown",
   "metadata": {},
   "source": [
    "Estimated time needed: **20** minutes\n"
   ]
  },
  {
   "cell_type": "markdown",
   "metadata": {},
   "source": [
    "## Objectives\n",
    "\n",
    "In this part you will:\n",
    "\n",
    "-   Collect exchange rate data using an API\n",
    "-   Store the data as a CSV\n"
   ]
  },
  {
   "cell_type": "markdown",
   "metadata": {},
   "source": [
    "For this lab, we are going to be using Python and several Python libraries. Some of these libraries might be installed in your lab environment or in SN Labs. Others may need to be installed by you. The cells below will install these libraries when executed.\n"
   ]
  },
  {
   "cell_type": "code",
   "execution_count": 1,
   "metadata": {
    "tags": []
   },
   "outputs": [
    {
     "name": "stdout",
     "output_type": "stream",
     "text": [
      "\n",
      "                  __    __    __    __\n",
      "                 /  \\  /  \\  /  \\  /  \\\n",
      "                /    \\/    \\/    \\/    \\\n",
      "███████████████/  /██/  /██/  /██/  /████████████████████████\n",
      "              /  / \\   / \\   / \\   / \\  \\____\n",
      "             /  /   \\_/   \\_/   \\_/   \\    o \\__,\n",
      "            / _/                       \\_____/  `\n",
      "            |/\n",
      "        ███╗   ███╗ █████╗ ███╗   ███╗██████╗  █████╗\n",
      "        ████╗ ████║██╔══██╗████╗ ████║██╔══██╗██╔══██╗\n",
      "        ██╔████╔██║███████║██╔████╔██║██████╔╝███████║\n",
      "        ██║╚██╔╝██║██╔══██║██║╚██╔╝██║██╔══██╗██╔══██║\n",
      "        ██║ ╚═╝ ██║██║  ██║██║ ╚═╝ ██║██████╔╝██║  ██║\n",
      "        ╚═╝     ╚═╝╚═╝  ╚═╝╚═╝     ╚═╝╚═════╝ ╚═╝  ╚═╝\n",
      "\n",
      "        mamba (1.4.2) supported by @QuantStack\n",
      "\n",
      "        GitHub:  https://github.com/mamba-org/mamba\n",
      "        Twitter: https://twitter.com/QuantStack\n",
      "\n",
      "█████████████████████████████████████████████████████████████\n",
      "\n",
      "\n",
      "Looking for: ['pandas==1.3.3']\n",
      "\n",
      "\u001b[?25l\u001b[2K\u001b[0G[+] 0.0s\n",
      "\u001b[2K\u001b[1A\u001b[2K\u001b[0G[+] 0.1s\n",
      "pkgs/main/linux-64 \u001b[90m━━━━━━━━━━━━━━╸\u001b[0m\u001b[33m━━━━━━━━━━\u001b[0m   0.0 B /  ??.?MB @  ??.?MB/s  0.1s\n",
      "pkgs/main/noarch   \u001b[90m━━━━━━━━━╸\u001b[0m\u001b[33m━━━━━━━━━━━━━━━\u001b[0m   0.0 B /  ??.?MB @  ??.?MB/s  0.1s\n",
      "pkgs/r/linux-64    \u001b[90m━╸\u001b[0m\u001b[33m━━━━━━━━━━━━━━━╸\u001b[0m\u001b[90m━━━━━━━\u001b[0m   0.0 B /  ??.?MB @  ??.?MB/s  0.1s\n",
      "pkgs/r/noarch      \u001b[33m━━━━━━━━━━━━━━━╸\u001b[0m\u001b[90m━━━━━━━━━\u001b[0m   0.0 B /  ??.?MB @  ??.?MB/s  0.1s\u001b[2K\u001b[1A\u001b[2K\u001b[1A\u001b[2K\u001b[1A\u001b[2K\u001b[1A\u001b[2K\u001b[0Gpkgs/main/linux-64                                            No change\n",
      "pkgs/r/noarch                                                 No change\n",
      "pkgs/main/noarch                                              No change\n",
      "pkgs/r/linux-64                                               No change\n",
      "\u001b[?25h\n",
      "Pinned packages:\n",
      "  - python 3.7.*\n",
      "\n",
      "\n",
      "Transaction\n",
      "\n",
      "  Prefix: /home/jupyterlab/conda/envs/python\n",
      "\n",
      "  Updating specs:\n",
      "\n",
      "   - pandas==1.3.3\n",
      "   - ca-certificates\n",
      "   - certifi\n",
      "   - openssl\n",
      "\n",
      "\n",
      "  Package   Version  Build           Channel                Size\n",
      "──────────────────────────────────────────────────────────────────\n",
      "  Downgrade:\n",
      "──────────────────────────────────────────────────────────────────\n",
      "\n",
      "  \u001b[31m- pandas\u001b[0m    1.3.5  py37h8c16a72_0  pkgs/main                  \n",
      "  \u001b[32m+ pandas\u001b[0m    1.3.3  py37h8c16a72_0  pkgs/main/linux-64     10MB\n",
      "\n",
      "  Summary:\n",
      "\n",
      "  Downgrade: 1 packages\n",
      "\n",
      "  Total download: 10MB\n",
      "\n",
      "──────────────────────────────────────────────────────────────────\n",
      "\n",
      "\n",
      "\u001b[?25l\u001b[2K\u001b[0G[+] 0.0s\n",
      "Downloading      \u001b[90m━━━━━━━━━━━━━━━━━━━━━━━\u001b[0m   0.0 B                            0.0s\n",
      "Extracting       \u001b[90m━━━━━━━━━━━━━━━━━━━━━━━\u001b[0m       0                            0.0s\u001b[2K\u001b[1A\u001b[2K\u001b[1A\u001b[2K\u001b[0G[+] 0.1s\n",
      "Downloading  (1) \u001b[33m━━━━━━━━━━━━━━━━━━━━━━━\u001b[0m   0.0 B pandas                     0.0s\n",
      "Extracting       \u001b[90m━━━━━━━━━━━━━━━━━━━━━━━\u001b[0m       0                            0.0s\u001b[2K\u001b[1A\u001b[2K\u001b[1A\u001b[2K\u001b[0Gpandas                                               9.7MB @  56.4MB/s  0.2s\n",
      "[+] 0.2s\n",
      "Downloading      ━━━━━━━━━━━━━━━━━━━━━━━   9.7MB                            0.1s\n",
      "Extracting   (1) \u001b[90m━━━━╸\u001b[0m\u001b[33m━━━━━━━━━━━━━━━╸\u001b[0m\u001b[90m━━\u001b[0m       0 pandas                     0.0s\u001b[2K\u001b[1A\u001b[2K\u001b[1A\u001b[2K\u001b[0G[+] 0.3s\n",
      "Downloading      ━━━━━━━━━━━━━━━━━━━━━━━   9.7MB                            0.1s\n",
      "Extracting   (1) \u001b[90m━━━━━╸\u001b[0m\u001b[33m━━━━━━━━━━━━━━━╸\u001b[0m\u001b[90m━\u001b[0m       0 pandas                     0.1s\u001b[2K\u001b[1A\u001b[2K\u001b[1A\u001b[2K\u001b[0G[+] 0.4s\n",
      "Downloading      ━━━━━━━━━━━━━━━━━━━━━━━   9.7MB                            0.1s\n",
      "Extracting   (1) \u001b[90m━━━━━━╸\u001b[0m\u001b[33m━━━━━━━━━━━━━━━━\u001b[0m       0 pandas                     0.2s\u001b[2K\u001b[1A\u001b[2K\u001b[1A\u001b[2K\u001b[0G[+] 0.5s\n",
      "Downloading      ━━━━━━━━━━━━━━━━━━━━━━━   9.7MB                            0.1s\n",
      "Extracting   (1) \u001b[90m━━━━━━━╸\u001b[0m\u001b[33m━━━━━━━━━━━━━━━\u001b[0m       0 pandas                     0.3s\u001b[2K\u001b[1A\u001b[2K\u001b[1A\u001b[2K\u001b[0G[+] 0.6s\n",
      "Downloading      ━━━━━━━━━━━━━━━━━━━━━━━   9.7MB                            0.1s\n",
      "Extracting   (1) \u001b[90m━━━━━━━━╸\u001b[0m\u001b[33m━━━━━━━━━━━━━━\u001b[0m       0 pandas                     0.4s\u001b[2K\u001b[1A\u001b[2K\u001b[1A\u001b[2K\u001b[0G[+] 0.7s\n",
      "Downloading      ━━━━━━━━━━━━━━━━━━━━━━━   9.7MB                            0.1s\n",
      "Extracting   (1) \u001b[90m━━━━━━━━━╸\u001b[0m\u001b[33m━━━━━━━━━━━━━\u001b[0m       0 pandas                     0.5s\u001b[2K\u001b[1A\u001b[2K\u001b[1A\u001b[2K\u001b[0G[+] 0.8s\n",
      "Downloading      ━━━━━━━━━━━━━━━━━━━━━━━   9.7MB                            0.1s\n",
      "Extracting   (1) \u001b[90m━━━━━━━━━━╸\u001b[0m\u001b[33m━━━━━━━━━━━━\u001b[0m       0 pandas                     0.6s\u001b[2K\u001b[1A\u001b[2K\u001b[1A\u001b[2K\u001b[0G[+] 0.9s\n",
      "Downloading      ━━━━━━━━━━━━━━━━━━━━━━━   9.7MB                            0.1s\n",
      "Extracting   (1) \u001b[90m━━━━━━━━━━━╸\u001b[0m\u001b[33m━━━━━━━━━━━\u001b[0m       0 pandas                     0.7s\u001b[2K\u001b[1A\u001b[2K\u001b[1A\u001b[2K\u001b[0G[+] 1.0s\n",
      "Downloading      ━━━━━━━━━━━━━━━━━━━━━━━   9.7MB                            0.1s\n",
      "Extracting   (1) \u001b[90m━━━━━━━━━━━━╸\u001b[0m\u001b[33m━━━━━━━━━━\u001b[0m       0 pandas                     0.8s\u001b[2K\u001b[1A\u001b[2K\u001b[1A\u001b[2K\u001b[0G[+] 1.1s\n",
      "Downloading      ━━━━━━━━━━━━━━━━━━━━━━━   9.7MB                            0.1s\n",
      "Extracting   (1) \u001b[33m━━━━━━━╸\u001b[0m\u001b[90m━━━━━━━━━━━━━━━\u001b[0m       0 pandas                     0.9s\u001b[2K\u001b[1A\u001b[2K\u001b[1A\u001b[2K\u001b[0G[+] 1.2s\n",
      "Downloading      ━━━━━━━━━━━━━━━━━━━━━━━   9.7MB                            0.1s\n",
      "Extracting   (1) \u001b[33m━━━━━━━━━╸\u001b[0m\u001b[90m━━━━━━━━━━━━━\u001b[0m       0 pandas                     1.0s\u001b[2K\u001b[1A\u001b[2K\u001b[1A\u001b[2K\u001b[0G\u001b[?25h\n",
      "Downloading and Extracting Packages\n",
      "\n",
      "Preparing transaction: done\n",
      "Verifying transaction: done\n",
      "Executing transaction: done\n",
      "\n",
      "                  __    __    __    __\n",
      "                 /  \\  /  \\  /  \\  /  \\\n",
      "                /    \\/    \\/    \\/    \\\n",
      "███████████████/  /██/  /██/  /██/  /████████████████████████\n",
      "              /  / \\   / \\   / \\   / \\  \\____\n",
      "             /  /   \\_/   \\_/   \\_/   \\    o \\__,\n",
      "            / _/                       \\_____/  `\n",
      "            |/\n",
      "        ███╗   ███╗ █████╗ ███╗   ███╗██████╗  █████╗\n",
      "        ████╗ ████║██╔══██╗████╗ ████║██╔══██╗██╔══██╗\n",
      "        ██╔████╔██║███████║██╔████╔██║██████╔╝███████║\n",
      "        ██║╚██╔╝██║██╔══██║██║╚██╔╝██║██╔══██╗██╔══██║\n",
      "        ██║ ╚═╝ ██║██║  ██║██║ ╚═╝ ██║██████╔╝██║  ██║\n",
      "        ╚═╝     ╚═╝╚═╝  ╚═╝╚═╝     ╚═╝╚═════╝ ╚═╝  ╚═╝\n",
      "\n",
      "        mamba (1.4.2) supported by @QuantStack\n",
      "\n",
      "        GitHub:  https://github.com/mamba-org/mamba\n",
      "        Twitter: https://twitter.com/QuantStack\n",
      "\n",
      "█████████████████████████████████████████████████████████████\n",
      "\n",
      "\n",
      "Looking for: ['requests==2.26.0']\n",
      "\n",
      "pkgs/main/linux-64                                          Using cache\n",
      "pkgs/main/noarch                                            Using cache\n",
      "pkgs/r/linux-64                                             Using cache\n",
      "pkgs/r/noarch                                               Using cache\n",
      "\n",
      "Pinned packages:\n",
      "  - python 3.7.*\n",
      "\n",
      "\n",
      "Transaction\n",
      "\n",
      "  Prefix: /home/jupyterlab/conda/envs/python\n",
      "\n",
      "  Updating specs:\n",
      "\n",
      "   - requests==2.26.0\n",
      "   - ca-certificates\n",
      "   - certifi\n",
      "   - openssl\n",
      "\n",
      "\n",
      "  Package               Version  Build         Channel              Size\n",
      "──────────────────────────────────────────────────────────────────────────\n",
      "  Downgrade:\n",
      "──────────────────────────────────────────────────────────────────────────\n",
      "\n",
      "  \u001b[31m- charset-normalizer\u001b[0m    3.1.0  pyhd8ed1ab_0  conda-forge              \n",
      "  \u001b[32m+ charset-normalizer\u001b[0m    2.0.4  pyhd3eb1b0_0  pkgs/main/noarch     35kB\n",
      "  \u001b[31m- requests          \u001b[0m   2.29.0  pyhd8ed1ab_0  conda-forge              \n",
      "  \u001b[32m+ requests          \u001b[0m   2.26.0  pyhd3eb1b0_0  pkgs/main/noarch     61kB\n",
      "\n",
      "  Summary:\n",
      "\n",
      "  Downgrade: 2 packages\n",
      "\n",
      "  Total download: 96kB\n",
      "\n",
      "──────────────────────────────────────────────────────────────────────────\n",
      "\n",
      "\n",
      "\u001b[?25l\u001b[2K\u001b[0G[+] 0.0s\n",
      "Downloading      \u001b[90m━━━━━━━━━━━━━━━━━━━━━━━\u001b[0m   0.0 B                            0.0s\n",
      "Extracting       \u001b[90m━━━━━━━━━━━━━━━━━━━━━━━\u001b[0m       0                            0.0s\u001b[2K\u001b[1A\u001b[2K\u001b[1A\u001b[2K\u001b[0G[+] 0.1s\n",
      "Downloading  (2) \u001b[33m━━━━━━━━━━━━━━━━━━━━━━━\u001b[0m   0.0 B charset-normalizer         0.0s\n",
      "Extracting       \u001b[90m━━━━━━━━━━━━━━━━━━━━━━━\u001b[0m       0                            0.0s\u001b[2K\u001b[1A\u001b[2K\u001b[1A\u001b[2K\u001b[0Gcharset-normalizer                                  35.4kB @ 266.1kB/s  0.1s\n",
      "requests                                            60.7kB @ 414.8kB/s  0.1s\n",
      "[+] 0.2s\n",
      "Downloading      ━━━━━━━━━━━━━━━━━━━━━━━  96.1kB                            0.1s\n",
      "Extracting   (2) \u001b[90m━━━━━━━━━━━━━╸\u001b[0m\u001b[33m━━━━━━━━━\u001b[0m       0 charset-normalizer         0.0s\u001b[2K\u001b[1A\u001b[2K\u001b[1A\u001b[2K\u001b[0G[+] 0.3s\n",
      "Downloading      ━━━━━━━━━━━━━━━━━━━━━━━  96.1kB                            0.1s\n",
      "Extracting   (2) \u001b[33m━━━━━━━━╸\u001b[0m\u001b[90m━━━━━━━━━━━━━━\u001b[0m       0 charset-normalizer         0.1s\u001b[2K\u001b[1A\u001b[2K\u001b[1A\u001b[2K\u001b[0G[+] 0.4s\n",
      "Downloading      ━━━━━━━━━━━━━━━━━━━━━━━  96.1kB                            0.1s\n",
      "Extracting   (2) \u001b[33m━━━━━━━━━╸\u001b[0m\u001b[90m━━━━━━━━━━━━━\u001b[0m       0 charset-normalizer         0.2s\u001b[2K\u001b[1A\u001b[2K\u001b[1A\u001b[2K\u001b[0G[+] 0.5s\n",
      "Downloading      ━━━━━━━━━━━━━━━━━━━━━━━  96.1kB                            0.1s\n",
      "Extracting   (2) \u001b[33m━━━━━━━━━━╸\u001b[0m\u001b[90m━━━━━━━━━━━━\u001b[0m       0 charset-normalizer         0.3s\u001b[2K\u001b[1A\u001b[2K\u001b[1A\u001b[2K\u001b[0G[+] 0.6s\n",
      "Downloading      ━━━━━━━━━━━━━━━━━━━━━━━  96.1kB                            0.1s\n",
      "Extracting   (2) \u001b[33m━━━━━━━━━━━╸\u001b[0m\u001b[90m━━━━━━━━━━━\u001b[0m       0 requests                   0.4s\u001b[2K\u001b[1A\u001b[2K\u001b[1A\u001b[2K\u001b[0G[+] 0.7s\n",
      "Downloading      ━━━━━━━━━━━━━━━━━━━━━━━  96.1kB                            0.1s\n",
      "Extracting   (2) \u001b[33m━━━━━━━━━━━━╸\u001b[0m\u001b[90m━━━━━━━━━━\u001b[0m       0 requests                   0.5s\u001b[2K\u001b[1A\u001b[2K\u001b[1A\u001b[2K\u001b[0G[+] 0.8s\n",
      "Downloading      ━━━━━━━━━━━━━━━━━━━━━━━  96.1kB                            0.1s\n",
      "Extracting   (2) \u001b[33m━━━━━━━━━━━━━╸\u001b[0m\u001b[90m━━━━━━━━━\u001b[0m       0 requests                   0.6s\u001b[2K\u001b[1A\u001b[2K\u001b[1A\u001b[2K\u001b[0G[+] 0.9s\n",
      "Downloading      ━━━━━━━━━━━━━━━━━━━━━━━  96.1kB                            0.1s\n",
      "Extracting   (1) ━━━━━━━━━━╸\u001b[33m━━━━━━━━━━━━\u001b[0m       1 requests                   0.7s\u001b[2K\u001b[1A\u001b[2K\u001b[1A\u001b[2K\u001b[0G\u001b[?25h\n",
      "Downloading and Extracting Packages\n",
      "\n",
      "Preparing transaction: done\n",
      "Verifying transaction: done\n",
      "Executing transaction: done\n"
     ]
    }
   ],
   "source": [
    "!mamba install pandas==1.3.3 -y\n",
    "!mamba install requests==2.26.0 -y"
   ]
  },
  {
   "cell_type": "markdown",
   "metadata": {},
   "source": [
    "## Imports\n",
    "\n",
    "Import any additional libraries you may need here.\n"
   ]
  },
  {
   "cell_type": "code",
   "execution_count": 1,
   "metadata": {
    "tags": []
   },
   "outputs": [],
   "source": [
    "import requests\n",
    "import pandas as pd"
   ]
  },
  {
   "cell_type": "markdown",
   "metadata": {},
   "source": [
    "## Extract Data Using an API\n"
   ]
  },
  {
   "cell_type": "markdown",
   "metadata": {},
   "source": [
    "Using ExchangeRate-API we will extract currency exchange rate data. Use the below steps to get the access key and to get the data. \n",
    "1. Open the url : https://exchangeratesapi.io/ and click on **Get Free API Key**. \n",
    "2. Subscribe for Free plan and Sign-in with the Google Account. \n",
    "3. Once the account is created you will be redirected to https://apilayer.com website.\n",
    "2. Now, click on the **user icon** and click **Account** as shown below:\n",
    "\n",
    "<img src=\"https://cf-courses-data.s3.us.cloud-object-storage.appdomain.cloud/IBMDeveloperSkillsNetwork-PY0221EN-SkillsNetwork/labs/module%206/Final%20Assignment/Images/account.png\">\n",
    "\n",
    "3. Scroll down and you will get the API Key section. Copy the API key and use in the url in Question 1.\n"
   ]
  },
  {
   "cell_type": "markdown",
   "metadata": {},
   "source": [
    "### Call the API\n",
    "\n",
    " <b> Question 1</b> Using the `requests` library call the endpoint given above and save the text, remember the first few characters of the output: \n"
   ]
  },
  {
   "cell_type": "code",
   "execution_count": 2,
   "metadata": {
    "tags": []
   },
   "outputs": [
    {
     "data": {
      "text/plain": [
       "'{\\n    \"success\": true,\\n    \"timestamp\": 1683642544,\\n    \"base\": \"EUR\",\\n    \"date\": \"2023-05-09\",\\n    \"rates\": {\\n        \"AED\": 4.025784,\\n        \"AFN\": 95.933124,\\n        \"ALL\": 110.793412,\\n        \"AMD\": 423.815765,\\n        \"ANG\": 1.976642,\\n        \"AOA\": 556.332035,\\n        \"ARS\": 249.974127,\\n        \"AUD\": 1.624001,\\n        \"AWG\": 1.976004,\\n        \"AZN\": 1.860993,\\n        \"BAM\": 1.953141,\\n        \"BBD\": 2.21449,\\n        \"BDT\": 118.715443,\\n        \"BGN\": 1.955988,\\n        \"BHD\": 0.413271,\\n        \"BIF\": 2284.600544,\\n        \"BMD\": 1.096257,\\n        \"BND\": 1.454451,\\n        \"BOB\": 7.578169,\\n        \"BRL\": 5.483149,\\n        \"BSD\": 1.096757,\\n        \"BTC\": 3.9831917e-05,\\n        \"BTN\": 90.027664,\\n        \"BWP\": 14.507557,\\n        \"BYN\": 2.768362,\\n        \"BYR\": 21486.64619,\\n        \"BZD\": 2.210604,\\n        \"CAD\": 1.468832,\\n        \"CDF\": 2499.466776,\\n        \"CHF\": 0.97775,\\n        \"CLF\": 0.031548,\\n        \"CLP\": 870.143179,\\n        \"CNY\": 7.586872,\\n        \"COP\": 4947.848414,\\n        \"CRC\": 592.109975,\\n        \"CUC\": 1.096257,\\n        \"CUP\": 29.050823,\\n        \"CVE\": 110.119236,\\n        \"CZK\": 23.416145,\\n        \"DJF\": 195.278663,\\n        \"DKK\": 7.445669,\\n        \"DOP\": 59.63577,\\n        \"DZD\": 148.606412,\\n        \"EGP\": 33.868919,\\n        \"ERN\": 16.443862,\\n        \"ETB\": 59.830276,\\n        \"EUR\": 1,\\n        \"FJD\": 2.411001,\\n        \"FKP\": 0.867902,\\n        \"GBP\": 0.869518,\\n        \"GEL\": 2.724192,\\n        \"GGP\": 0.867902,\\n        \"GHS\": 12.939176,\\n        \"GIP\": 0.867902,\\n        \"GMD\": 65.720953,\\n        \"GNF\": 9482.626774,\\n        \"GTQ\": 8.554226,\\n        \"GYD\": 231.957569,\\n        \"HKD\": 8.596352,\\n        \"HNL\": 26.944316,\\n        \"HRK\": 7.472237,\\n        \"HTG\": 161.776636,\\n        \"HUF\": 371.374811,\\n        \"IDR\": 16173.086288,\\n        \"ILS\": 4.015498,\\n        \"IMP\": 0.867902,\\n        \"INR\": 90.02631,\\n        \"IQD\": 1436.444298,\\n        \"IRR\": 46316.877466,\\n        \"ISK\": 150.505553,\\n        \"JEP\": 0.867902,\\n        \"JMD\": 168.731826,\\n        \"JOD\": 0.777687,\\n        \"JPY\": 148.091296,\\n        \"KES\": 149.749758,\\n        \"KGS\": 95.709865,\\n        \"KHR\": 4525.350373,\\n        \"KMF\": 489.972486,\\n        \"KPW\": 986.643982,\\n        \"KRW\": 1452.815233,\\n        \"KWD\": 0.336058,\\n        \"KYD\": 0.913964,\\n        \"KZT\": 486.628436,\\n        \"LAK\": 19157.099173,\\n        \"LBP\": 16717.926394,\\n        \"LKR\": 348.635337,\\n        \"LRD\": 181.876653,\\n        \"LSL\": 20.181998,\\n        \"LTL\": 3.236963,\\n        \"LVL\": 0.663115,\\n        \"LYD\": 5.207909,\\n        \"MAD\": 10.915527,\\n        \"MDL\": 19.542671,\\n        \"MGA\": 4816.387145,\\n        \"MKD\": 61.63554,\\n        \"MMK\": 2303.189474,\\n        \"MNT\": 3823.522798,\\n        \"MOP\": 8.858678,\\n        \"MRO\": 391.363724,\\n        \"MUR\": 49.662985,\\n        \"MVR\": 16.82723,\\n        \"MWK\": 1126.476966,\\n        \"MXN\": 19.47085,\\n        \"MYR\": 4.877799,\\n        \"MZN\": 69.338366,\\n        \"NAD\": 20.182386,\\n        \"NGN\": 504.760352,\\n        \"NIO\": 40.114533,\\n        \"NOK\": 11.590012,\\n        \"NPR\": 144.048416,\\n        \"NZD\": 1.733117,\\n        \"OMR\": 0.422082,\\n        \"PAB\": 1.096712,\\n        \"PEN\": 4.056735,\\n        \"PGK\": 3.865654,\\n        \"PHP\": 61.180991,\\n        \"PKR\": 312.852754,\\n        \"PLN\": 4.554895,\\n        \"PYG\": 7840.042271,\\n        \"QAR\": 3.990921,\\n        \"RON\": 4.919021,\\n        \"RSD\": 117.271077,\\n        \"RUB\": 84.904988,\\n        \"RWF\": 1224.82291,\\n        \"SAR\": 4.111328,\\n        \"SBD\": 9.098199,\\n        \"SCR\": 15.411635,\\n        \"SDG\": 657.754882,\\n        \"SEK\": 11.189741,\\n        \"SGD\": 1.455342,\\n        \"SHP\": 1.333871,\\n        \"SLE\": 24.748126,\\n        \"SLL\": 21651.084082,\\n        \"SOS\": 624.294641,\\n        \"SRD\": 40.929862,\\n        \"STD\": 22690.316059,\\n        \"SVC\": 9.596123,\\n        \"SYP\": 2754.389878,\\n        \"SZL\": 20.171455,\\n        \"THB\": 36.950552,\\n        \"TJS\": 11.976625,\\n        \"TMT\": 3.836901,\\n        \"TND\": 3.323578,\\n        \"TOP\": 2.567217,\\n        \"TRY\": 21.398195,\\n        \"TTD\": 7.445323,\\n        \"TWD\": 33.694895,\\n        \"TZS\": 2582.279368,\\n        \"UAH\": 40.500465,\\n        \"UGX\": 4091.362689,\\n        \"USD\": 1.096257,\\n        \"UYU\": 42.592011,\\n        \"UZS\": 12538.788044,\\n        \"VEF\": 2740755.927193,\\n        \"VES\": 27.435367,\\n        \"VND\": 25726.421911,\\n        \"VUV\": 129.435609,\\n        \"WST\": 2.967252,\\n        \"XAF\": 655.214354,\\n        \"XAG\": 0.042896,\\n        \"XAU\": 0.000541,\\n        \"XCD\": 2.962691,\\n        \"XDR\": 0.81128,\\n        \"XOF\": 655.108078,\\n        \"XPF\": 119.218213,\\n        \"YER\": 274.447904,\\n        \"ZAR\": 20.335171,\\n        \"ZMK\": 9867.636505,\\n        \"ZMW\": 19.960738,\\n        \"ZWL\": 352.994454\\n    }\\n}\\n'"
      ]
     },
     "execution_count": 2,
     "metadata": {},
     "output_type": "execute_result"
    }
   ],
   "source": [
    "# Write your code here\n",
    "url = \"https://api.apilayer.com/exchangerates_data/latest?base=EUR&apikey=gvd1pg2xUZWa2QcKHxRvBWKnCjVRAsWh\" #Make sure to change ******* to your API key.\n",
    "\n",
    "response =requests.get(url)\n",
    "response.text"
   ]
  },
  {
   "cell_type": "code",
   "execution_count": 3,
   "metadata": {
    "tags": []
   },
   "outputs": [],
   "source": [
    "# url = \"https://api.apilayer.com/exchangerates_data/latest?&base=EUR\"\n",
    "\n",
    "# payload = {}\n",
    "# headers= {\n",
    "#   \"apikey\": \"gvd1pg2xUZWa2QcKHxRvBWKnCjVRAsWh\"\n",
    "# }\n",
    "\n",
    "# response = requests.request(\"GET\", url, headers=headers, data = payload)\n",
    "\n",
    "# status_code = response.status_code\n",
    "# result = response.text"
   ]
  },
  {
   "cell_type": "markdown",
   "metadata": {},
   "source": [
    "### Save as DataFrame\n",
    "\n",
    " <b> Question 2</b>  Using the data gathered turn it into a `pandas` dataframe. The dataframe should have the Currency as the index and `Rate` as their columns. Make sure to drop unnecessary columns.\n"
   ]
  },
  {
   "cell_type": "code",
   "execution_count": 14,
   "metadata": {
    "tags": []
   },
   "outputs": [
    {
     "data": {
      "text/html": [
       "<div>\n",
       "<style scoped>\n",
       "    .dataframe tbody tr th:only-of-type {\n",
       "        vertical-align: middle;\n",
       "    }\n",
       "\n",
       "    .dataframe tbody tr th {\n",
       "        vertical-align: top;\n",
       "    }\n",
       "\n",
       "    .dataframe thead th {\n",
       "        text-align: right;\n",
       "    }\n",
       "</style>\n",
       "<table border=\"1\" class=\"dataframe\">\n",
       "  <thead>\n",
       "    <tr style=\"text-align: right;\">\n",
       "      <th></th>\n",
       "      <th>success</th>\n",
       "      <th>timestamp</th>\n",
       "      <th>base</th>\n",
       "      <th>date</th>\n",
       "      <th>rates</th>\n",
       "    </tr>\n",
       "  </thead>\n",
       "  <tbody>\n",
       "    <tr>\n",
       "      <th>AED</th>\n",
       "      <td>True</td>\n",
       "      <td>1683642723</td>\n",
       "      <td>EUR</td>\n",
       "      <td>2023-05-09</td>\n",
       "      <td>4.025451</td>\n",
       "    </tr>\n",
       "    <tr>\n",
       "      <th>AFN</th>\n",
       "      <td>True</td>\n",
       "      <td>1683642723</td>\n",
       "      <td>EUR</td>\n",
       "      <td>2023-05-09</td>\n",
       "      <td>95.912627</td>\n",
       "    </tr>\n",
       "    <tr>\n",
       "      <th>ALL</th>\n",
       "      <td>True</td>\n",
       "      <td>1683642723</td>\n",
       "      <td>EUR</td>\n",
       "      <td>2023-05-09</td>\n",
       "      <td>110.784204</td>\n",
       "    </tr>\n",
       "    <tr>\n",
       "      <th>AMD</th>\n",
       "      <td>True</td>\n",
       "      <td>1683642723</td>\n",
       "      <td>EUR</td>\n",
       "      <td>2023-05-09</td>\n",
       "      <td>423.780542</td>\n",
       "    </tr>\n",
       "    <tr>\n",
       "      <th>ANG</th>\n",
       "      <td>True</td>\n",
       "      <td>1683642723</td>\n",
       "      <td>EUR</td>\n",
       "      <td>2023-05-09</td>\n",
       "      <td>1.976477</td>\n",
       "    </tr>\n",
       "    <tr>\n",
       "      <th>...</th>\n",
       "      <td>...</td>\n",
       "      <td>...</td>\n",
       "      <td>...</td>\n",
       "      <td>...</td>\n",
       "      <td>...</td>\n",
       "    </tr>\n",
       "    <tr>\n",
       "      <th>YER</th>\n",
       "      <td>True</td>\n",
       "      <td>1683642723</td>\n",
       "      <td>EUR</td>\n",
       "      <td>2023-05-09</td>\n",
       "      <td>274.425688</td>\n",
       "    </tr>\n",
       "    <tr>\n",
       "      <th>ZAR</th>\n",
       "      <td>True</td>\n",
       "      <td>1683642723</td>\n",
       "      <td>EUR</td>\n",
       "      <td>2023-05-09</td>\n",
       "      <td>20.335751</td>\n",
       "    </tr>\n",
       "    <tr>\n",
       "      <th>ZMK</th>\n",
       "      <td>True</td>\n",
       "      <td>1683642723</td>\n",
       "      <td>EUR</td>\n",
       "      <td>2023-05-09</td>\n",
       "      <td>9866.811214</td>\n",
       "    </tr>\n",
       "    <tr>\n",
       "      <th>ZMW</th>\n",
       "      <td>True</td>\n",
       "      <td>1683642723</td>\n",
       "      <td>EUR</td>\n",
       "      <td>2023-05-09</td>\n",
       "      <td>19.959080</td>\n",
       "    </tr>\n",
       "    <tr>\n",
       "      <th>ZWL</th>\n",
       "      <td>True</td>\n",
       "      <td>1683642723</td>\n",
       "      <td>EUR</td>\n",
       "      <td>2023-05-09</td>\n",
       "      <td>352.965118</td>\n",
       "    </tr>\n",
       "  </tbody>\n",
       "</table>\n",
       "<p>170 rows × 5 columns</p>\n",
       "</div>"
      ],
      "text/plain": [
       "     success   timestamp base        date        rates\n",
       "AED     True  1683642723  EUR  2023-05-09     4.025451\n",
       "AFN     True  1683642723  EUR  2023-05-09    95.912627\n",
       "ALL     True  1683642723  EUR  2023-05-09   110.784204\n",
       "AMD     True  1683642723  EUR  2023-05-09   423.780542\n",
       "ANG     True  1683642723  EUR  2023-05-09     1.976477\n",
       "..       ...         ...  ...         ...          ...\n",
       "YER     True  1683642723  EUR  2023-05-09   274.425688\n",
       "ZAR     True  1683642723  EUR  2023-05-09    20.335751\n",
       "ZMK     True  1683642723  EUR  2023-05-09  9866.811214\n",
       "ZMW     True  1683642723  EUR  2023-05-09    19.959080\n",
       "ZWL     True  1683642723  EUR  2023-05-09   352.965118\n",
       "\n",
       "[170 rows x 5 columns]"
      ]
     },
     "execution_count": 14,
     "metadata": {},
     "output_type": "execute_result"
    }
   ],
   "source": [
    "import json\n",
    "data_json= json.loads(response.text)\n",
    "data_json\n",
    "\n",
    "data_df = pd.DataFrame(data_json)\n",
    "data_df"
   ]
  },
  {
   "cell_type": "code",
   "execution_count": 15,
   "metadata": {
    "tags": []
   },
   "outputs": [
    {
     "data": {
      "text/html": [
       "<div>\n",
       "<style scoped>\n",
       "    .dataframe tbody tr th:only-of-type {\n",
       "        vertical-align: middle;\n",
       "    }\n",
       "\n",
       "    .dataframe tbody tr th {\n",
       "        vertical-align: top;\n",
       "    }\n",
       "\n",
       "    .dataframe thead th {\n",
       "        text-align: right;\n",
       "    }\n",
       "</style>\n",
       "<table border=\"1\" class=\"dataframe\">\n",
       "  <thead>\n",
       "    <tr style=\"text-align: right;\">\n",
       "      <th></th>\n",
       "      <th>rates</th>\n",
       "    </tr>\n",
       "  </thead>\n",
       "  <tbody>\n",
       "    <tr>\n",
       "      <th>AED</th>\n",
       "      <td>4.025451</td>\n",
       "    </tr>\n",
       "    <tr>\n",
       "      <th>AFN</th>\n",
       "      <td>95.912627</td>\n",
       "    </tr>\n",
       "    <tr>\n",
       "      <th>ALL</th>\n",
       "      <td>110.784204</td>\n",
       "    </tr>\n",
       "    <tr>\n",
       "      <th>AMD</th>\n",
       "      <td>423.780542</td>\n",
       "    </tr>\n",
       "    <tr>\n",
       "      <th>ANG</th>\n",
       "      <td>1.976477</td>\n",
       "    </tr>\n",
       "    <tr>\n",
       "      <th>...</th>\n",
       "      <td>...</td>\n",
       "    </tr>\n",
       "    <tr>\n",
       "      <th>YER</th>\n",
       "      <td>274.425688</td>\n",
       "    </tr>\n",
       "    <tr>\n",
       "      <th>ZAR</th>\n",
       "      <td>20.335751</td>\n",
       "    </tr>\n",
       "    <tr>\n",
       "      <th>ZMK</th>\n",
       "      <td>9866.811214</td>\n",
       "    </tr>\n",
       "    <tr>\n",
       "      <th>ZMW</th>\n",
       "      <td>19.959080</td>\n",
       "    </tr>\n",
       "    <tr>\n",
       "      <th>ZWL</th>\n",
       "      <td>352.965118</td>\n",
       "    </tr>\n",
       "  </tbody>\n",
       "</table>\n",
       "<p>170 rows × 1 columns</p>\n",
       "</div>"
      ],
      "text/plain": [
       "           rates\n",
       "AED     4.025451\n",
       "AFN    95.912627\n",
       "ALL   110.784204\n",
       "AMD   423.780542\n",
       "ANG     1.976477\n",
       "..           ...\n",
       "YER   274.425688\n",
       "ZAR    20.335751\n",
       "ZMK  9866.811214\n",
       "ZMW    19.959080\n",
       "ZWL   352.965118\n",
       "\n",
       "[170 rows x 1 columns]"
      ]
     },
     "execution_count": 15,
     "metadata": {},
     "output_type": "execute_result"
    }
   ],
   "source": [
    "# Drop unnescessary columns\n",
    "data_df2 = data_df[['rates']]\n",
    "data_df2"
   ]
  },
  {
   "cell_type": "markdown",
   "metadata": {},
   "source": [
    "### Load the Data\n",
    "\n",
    "Using the dataframe save it as a CSV names `exchange_rates_1.csv`.\n"
   ]
  },
  {
   "cell_type": "code",
   "execution_count": 16,
   "metadata": {
    "tags": []
   },
   "outputs": [],
   "source": [
    "# Save the Dataframe\n",
    "data_df2.to_csv('exchange_rates_1.csv')"
   ]
  },
  {
   "cell_type": "markdown",
   "metadata": {},
   "source": [
    "Your CSV should be in this format with more currencies\n",
    "\n",
    "| | Rates |\n",
    "| ------- | ------- |\n",
    "|  AED| 4.398618    |\n",
    "|  AFN| 92.917693   |  \n",
    "|  ALL| 123.099093  |\n",
    "|  AMD| 621.935674  |\n",
    "|  ANG| 2.149648    | \n"
   ]
  },
  {
   "cell_type": "markdown",
   "metadata": {},
   "source": [
    "## Authors\n"
   ]
  },
  {
   "cell_type": "markdown",
   "metadata": {},
   "source": [
    "Ramesh Sannareddy, Joseph Santarcangelo and Azim Hirjani\n"
   ]
  },
  {
   "cell_type": "markdown",
   "metadata": {},
   "source": [
    "### Other Contributors\n"
   ]
  },
  {
   "cell_type": "markdown",
   "metadata": {},
   "source": [
    "Rav Ahuja\n"
   ]
  },
  {
   "cell_type": "markdown",
   "metadata": {},
   "source": [
    "## Change Log\n"
   ]
  },
  {
   "cell_type": "markdown",
   "metadata": {},
   "source": [
    "| Date (YYYY-MM-DD) | Version | Changed By        | Change Description                 |\n",
    "| ----------------- | ------- | ----------------- | ---------------------------------- |\n",
    "| 2022-05-06        | 0.3     | Malika            | Updated instructions to get the API and the url|\n",
    "| 2021-04-15        | 0.2     | Malika            | Updated the lab from USD to EUR    |\n",
    "| 2020-11-25        | 0.1     | Ramesh Sannareddy | Created initial version of the lab |\n"
   ]
  },
  {
   "cell_type": "markdown",
   "metadata": {},
   "source": [
    " Copyright © 2020 IBM Corporation. This notebook and its source code are released under the terms of the [MIT License](https://cognitiveclass.ai/mit-license?utm_medium=Exinfluencer&utm_source=Exinfluencer&utm_content=000026UJ&utm_term=10006555&utm_id=NA-SkillsNetwork-Channel-SkillsNetworkCoursesIBMDeveloperSkillsNetworkPY0221ENSkillsNetwork899-2023-01-01&cm_mmc=Email_Newsletter-_-Developer_Ed%2BTech-_-WW_WW-_-SkillsNetwork-Courses-IBM-DA0321EN-SkillsNetwork-21426264&cm_mmca1=000026UJ&cm_mmca2=10006555&cm_mmca3=M12345678&cvosrc=email.Newsletter.M12345678&cvo_campaign=000026UJ).\n"
   ]
  }
 ],
 "metadata": {
  "kernelspec": {
   "display_name": "Python",
   "language": "python",
   "name": "conda-env-python-py"
  },
  "language_info": {
   "codemirror_mode": {
    "name": "ipython",
    "version": 3
   },
   "file_extension": ".py",
   "mimetype": "text/x-python",
   "name": "python",
   "nbconvert_exporter": "python",
   "pygments_lexer": "ipython3",
   "version": "3.7.12"
  }
 },
 "nbformat": 4,
 "nbformat_minor": 4
}
